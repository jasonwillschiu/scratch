{
  "nbformat": 4,
  "nbformat_minor": 0,
  "metadata": {
    "kernelspec": {
      "display_name": "Python 3",
      "language": "python",
      "name": "python3"
    },
    "language_info": {
      "codemirror_mode": {
        "name": "ipython",
        "version": 3
      },
      "file_extension": ".py",
      "mimetype": "text/x-python",
      "name": "python",
      "nbconvert_exporter": "python",
      "pygments_lexer": "ipython3",
      "version": "3.7.4"
    },
    "colab": {
      "name": "meetup bot.ipynb",
      "provenance": [],
      "include_colab_link": true
    }
  },
  "cells": [
    {
      "cell_type": "markdown",
      "metadata": {
        "id": "view-in-github",
        "colab_type": "text"
      },
      "source": [
        "<a href=\"https://colab.research.google.com/github/jasonwillschiu/scratch/blob/master/meetup%20bot.ipynb\" target=\"_parent\"><img src=\"https://colab.research.google.com/assets/colab-badge.svg\" alt=\"Open In Colab\"/></a>"
      ]
    },
    {
      "cell_type": "code",
      "metadata": {
        "id": "JdEOKI4ZB2fV",
        "colab_type": "code",
        "colab": {}
      },
      "source": [
        "# this way doesn't let us download it to memory so we can open and read it\n",
        "# we either download as string which can't read the pickle\n",
        "# or we download to file which adds an extra step\n",
        "# from google.cloud import storage\n",
        "# from io import StringIO\n",
        "\n",
        "# set this environ variable to get storage.Client() auth'ed\n",
        "# the trick here is going to the bucket and adding the service account to it\n",
        "# os.environ[\"GOOGLE_APPLICATION_CREDENTIALS\"] = \"robotic-tiger-270605-60df8bc892bb.json\"\n",
        "# client = storage.Client()\n",
        "# bucket = client.get_bucket('meetup-script')\n",
        "# fileList = [x.name for x in list(client.list_blobs(bucket))]\n",
        "# fileList"
      ],
      "execution_count": 54,
      "outputs": []
    },
    {
      "cell_type": "code",
      "metadata": {
        "id": "b9mA_IZvpfFn",
        "colab_type": "code",
        "colab": {
          "base_uri": "https://localhost:8080/",
          "height": 71
        },
        "outputId": "9c17bc35-fa12-4ab8-f5b7-6cdf20e28f22"
      },
      "source": [
        "# this way gives us a small library (not tensorflow)\n",
        "# that can open files from gcs\n",
        "# to be used in cloud run, gcsfs isn't supported by cloud functions\n",
        "\n",
        "import gcsfs\n",
        "import pickle\n",
        "# need to upload the json cred for google colab\n",
        "fs = gcsfs.GCSFileSystem(project='robotic-tiger-270605',token='robotic-tiger-270605-60df8bc892bb.json')\n",
        "print(fs.ls('meetup-script'))\n",
        "with fs.open(fs.ls('meetup-script')[0],'rb') as f:\n",
        "  print(pickle.load(f))"
      ],
      "execution_count": 65,
      "outputs": [
        {
          "output_type": "stream",
          "text": [
            "['meetup-script/meetup_cookies_chrome_2020-09-19.pkl']\n",
            "[{'domain': '.meetup.com', 'httpOnly': True, 'name': 'MEETUP_SESSION', 'path': '/', 'sameSite': 'None', 'secure': True, 'value': 'id=3944202b-8b58-4d5e-899f-d9dda5b23150'}, {'domain': '.meetup.com', 'expiry': 1601910980, 'httpOnly': False, 'name': '_uetvid', 'path': '/', 'secure': False, 'value': 'bd94336af3fa22803f34a4be867604a0'}, {'domain': '.meetup.com', 'expiry': 1607764578, 'httpOnly': True, 'name': 'MEETUP_SEGMENT', 'path': '/', 'sameSite': 'Lax', 'secure': True, 'value': 'member'}, {'domain': '.meetup.com', 'httpOnly': True, 'name': 'MEETUP_LANGUAGE', 'path': '/', 'sameSite': 'Lax', 'secure': True, 'value': 'language=en&country=AU'}, {'domain': '.meetup.com', 'expiry': 1600593380, 'httpOnly': False, 'name': '_uetsid', 'path': '/', 'secure': False, 'value': 'fe71119e40b43b7294e7a632fed0e3ad'}, {'domain': '.meetup.com', 'httpOnly': False, 'name': 'MUP_jqueryEn', 'path': '/', 'sameSite': 'Lax', 'secure': True, 'value': 'on'}, {'domain': '.meetup.com', 'expiry': 1726737141, 'httpOnly': False, 'name': '__ssid', 'path': '/', 'secure': False, 'value': '058f4c92b8e685c1c082a9002f70f20'}, {'domain': '.meetup.com', 'expiry': 1603098744, 'httpOnly': False, 'name': 'MEETUP_CSRF', 'path': '/', 'sameSite': 'Strict', 'secure': True, 'value': '37be5128-4031-4feb-b056-99736d94b98c'}, {'domain': '.meetup.com', 'httpOnly': False, 'name': 'click-track', 'path': '/', 'sameSite': 'Lax', 'secure': True, 'value': '%7B%22history%22%3A%5B%7B%22lineage%22%3A%22input%23loginFormSubmit.button.primary%3Cdiv%3Cdiv%3C%23loginForm%3Cdiv%3C%23paneLogin%3Cdiv%3C%23C_document%3C%23C_context%3C%23C_pageBody%3C%23C_page%22%2C%22linkText%22%3A%22%22%2C%22coords%22%3A%5B-213%2C543%5D%2C%22data%22%3A%7B%7D%7D%5D%7D'}, {'domain': '.meetup.com', 'expiry': 1600507040, 'httpOnly': False, 'name': '_dc_gtm_UA-3226337-19', 'path': '/', 'secure': False, 'value': '1'}, {'domain': '.meetup.com', 'expiry': 1600593380, 'httpOnly': False, 'name': '_gid', 'path': '/', 'secure': False, 'value': 'GA1.2.152801884.1600506740'}, {'domain': '.meetup.com', 'expiry': 1608282981, 'httpOnly': False, 'name': '_fbp', 'path': '/', 'sameSite': 'Lax', 'secure': False, 'value': 'fb.1.1600506739358.1247176708'}, {'domain': '.meetup.com', 'expiry': 1600507578, 'httpOnly': True, 'name': 'MEETUP_FB_DONE', 'path': '/', 'sameSite': 'Lax', 'secure': True, 'value': '1'}, {'domain': '.meetup.com', 'expiry': 1616058977, 'httpOnly': True, 'name': 'MEETUP_MEMBER', 'path': '/', 'sameSite': 'None', 'secure': True, 'value': 'id=230770839&status=1&timestamp=1600506976&bs=0&tz=Australia%2FSydney&zip=meetup1&country=au&city=Sydney&state=&lat=-33.87&lon=151.21&ql=false&s=6e690c4231b0c3f7b340f4f68a5b6ca24be98af9&scope=ALL&rem=1'}, {'domain': '.meetup.com', 'expiry': 1616058977, 'httpOnly': False, 'name': 'memberId', 'path': '/', 'sameSite': 'Lax', 'secure': True, 'value': '230770839'}, {'domain': '.meetup.com', 'expiry': 1608282739, 'httpOnly': False, 'name': '_gcl_au', 'path': '/', 'secure': False, 'value': '1.1.1668904736.1600506739'}, {'domain': '.meetup.com', 'expiry': 2231226978, 'httpOnly': True, 'name': 'MEETUP_TRACK', 'path': '/', 'sameSite': 'None', 'secure': True, 'value': 'id=22585e55-e90f-4959-ac8a-cd004d8c6400&l=1&s=935c94064359a68a06e91bc8d2a7a094b4aa08dc'}, {'domain': '.meetup.com', 'expiry': 2231226738, 'httpOnly': False, 'name': 'MEETUP_BROWSER_ID', 'path': '/', 'sameSite': 'Strict', 'secure': True, 'value': '\"id=ec0336e9-e6b4-43d8-9026-f0aaba114c54\"'}, {'domain': '.meetup.com', 'expiry': 1600521138, 'httpOnly': False, 'name': 'SIFT_SESSION_ID', 'path': '/', 'sameSite': 'Strict', 'secure': True, 'value': '84c475bf-6550-4304-b316-840d7c34dd94'}, {'domain': '.meetup.com', 'expiry': 1616058977, 'httpOnly': False, 'name': 'gaEncryptedMemberId', 'path': '/', 'sameSite': 'Lax', 'secure': True, 'value': '9591bb16baeafa1ffbf018f5b5527f08'}, {'domain': '.meetup.com', 'expiry': 1663578980, 'httpOnly': False, 'name': '_ga', 'path': '/', 'secure': False, 'value': 'GA1.2.1469552206.1600506740'}]\n"
          ],
          "name": "stdout"
        }
      ]
    },
    {
      "cell_type": "code",
      "metadata": {
        "id": "REimBvkpk3zv",
        "colab_type": "code",
        "colab": {
          "base_uri": "https://localhost:8080/",
          "height": 1000
        },
        "outputId": "7577c223-81f3-4c34-ec50-99dc38f5ed38"
      },
      "source": [
        "# can run these in Dockerfile\n",
        "# selenium, gcsfs and chromium install\n",
        "!pip install gcsfs\n",
        "!pip install selenium\n",
        "!apt install chromium-chromedriver\n",
        "!cp /usr/lib/chromium-browser/chromedriver /usr/bin"
      ],
      "execution_count": 67,
      "outputs": [
        {
          "output_type": "stream",
          "text": [
            "Requirement already satisfied: gcsfs in /usr/local/lib/python3.6/dist-packages (0.7.1)\n",
            "Requirement already satisfied: google-auth>=1.2 in /usr/local/lib/python3.6/dist-packages (from gcsfs) (1.17.2)\n",
            "Requirement already satisfied: fsspec>=0.8.0 in /usr/local/lib/python3.6/dist-packages (from gcsfs) (0.8.2)\n",
            "Requirement already satisfied: google-auth-oauthlib in /usr/local/lib/python3.6/dist-packages (from gcsfs) (0.4.1)\n",
            "Requirement already satisfied: aiohttp in /usr/local/lib/python3.6/dist-packages (from gcsfs) (3.6.2)\n",
            "Requirement already satisfied: requests in /usr/local/lib/python3.6/dist-packages (from gcsfs) (2.23.0)\n",
            "Requirement already satisfied: decorator in /usr/local/lib/python3.6/dist-packages (from gcsfs) (4.4.2)\n",
            "Requirement already satisfied: six>=1.9.0 in /usr/local/lib/python3.6/dist-packages (from google-auth>=1.2->gcsfs) (1.15.0)\n",
            "Requirement already satisfied: pyasn1-modules>=0.2.1 in /usr/local/lib/python3.6/dist-packages (from google-auth>=1.2->gcsfs) (0.2.8)\n",
            "Requirement already satisfied: rsa<5,>=3.1.4; python_version >= \"3\" in /usr/local/lib/python3.6/dist-packages (from google-auth>=1.2->gcsfs) (4.6)\n",
            "Requirement already satisfied: setuptools>=40.3.0 in /usr/local/lib/python3.6/dist-packages (from google-auth>=1.2->gcsfs) (50.3.0)\n",
            "Requirement already satisfied: cachetools<5.0,>=2.0.0 in /usr/local/lib/python3.6/dist-packages (from google-auth>=1.2->gcsfs) (4.1.1)\n",
            "Requirement already satisfied: requests-oauthlib>=0.7.0 in /usr/local/lib/python3.6/dist-packages (from google-auth-oauthlib->gcsfs) (1.3.0)\n",
            "Requirement already satisfied: idna-ssl>=1.0; python_version < \"3.7\" in /usr/local/lib/python3.6/dist-packages (from aiohttp->gcsfs) (1.1.0)\n",
            "Requirement already satisfied: yarl<2.0,>=1.0 in /usr/local/lib/python3.6/dist-packages (from aiohttp->gcsfs) (1.5.1)\n",
            "Requirement already satisfied: attrs>=17.3.0 in /usr/local/lib/python3.6/dist-packages (from aiohttp->gcsfs) (20.2.0)\n",
            "Requirement already satisfied: async-timeout<4.0,>=3.0 in /usr/local/lib/python3.6/dist-packages (from aiohttp->gcsfs) (3.0.1)\n",
            "Requirement already satisfied: typing-extensions>=3.6.5; python_version < \"3.7\" in /usr/local/lib/python3.6/dist-packages (from aiohttp->gcsfs) (3.7.4.3)\n",
            "Requirement already satisfied: multidict<5.0,>=4.5 in /usr/local/lib/python3.6/dist-packages (from aiohttp->gcsfs) (4.7.6)\n",
            "Requirement already satisfied: chardet<4.0,>=2.0 in /usr/local/lib/python3.6/dist-packages (from aiohttp->gcsfs) (3.0.4)\n",
            "Requirement already satisfied: urllib3!=1.25.0,!=1.25.1,<1.26,>=1.21.1 in /usr/local/lib/python3.6/dist-packages (from requests->gcsfs) (1.24.3)\n",
            "Requirement already satisfied: idna<3,>=2.5 in /usr/local/lib/python3.6/dist-packages (from requests->gcsfs) (2.10)\n",
            "Requirement already satisfied: certifi>=2017.4.17 in /usr/local/lib/python3.6/dist-packages (from requests->gcsfs) (2020.6.20)\n",
            "Requirement already satisfied: pyasn1<0.5.0,>=0.4.6 in /usr/local/lib/python3.6/dist-packages (from pyasn1-modules>=0.2.1->google-auth>=1.2->gcsfs) (0.4.8)\n",
            "Requirement already satisfied: oauthlib>=3.0.0 in /usr/local/lib/python3.6/dist-packages (from requests-oauthlib>=0.7.0->google-auth-oauthlib->gcsfs) (3.1.0)\n",
            "Collecting selenium\n",
            "\u001b[?25l  Downloading https://files.pythonhosted.org/packages/80/d6/4294f0b4bce4de0abf13e17190289f9d0613b0a44e5dd6a7f5ca98459853/selenium-3.141.0-py2.py3-none-any.whl (904kB)\n",
            "\u001b[K     |████████████████████████████████| 911kB 3.0MB/s \n",
            "\u001b[?25hRequirement already satisfied: urllib3 in /usr/local/lib/python3.6/dist-packages (from selenium) (1.24.3)\n",
            "Installing collected packages: selenium\n",
            "Successfully installed selenium-3.141.0\n",
            "Reading package lists... Done\n",
            "Building dependency tree       \n",
            "Reading state information... Done\n",
            "The following additional packages will be installed:\n",
            "  chromium-browser chromium-browser-l10n chromium-codecs-ffmpeg-extra\n",
            "Suggested packages:\n",
            "  webaccounts-chromium-extension unity-chromium-extension adobe-flashplugin\n",
            "The following NEW packages will be installed:\n",
            "  chromium-browser chromium-browser-l10n chromium-chromedriver\n",
            "  chromium-codecs-ffmpeg-extra\n",
            "0 upgraded, 4 newly installed, 0 to remove and 11 not upgraded.\n",
            "Need to get 79.2 MB of archives.\n",
            "After this operation, 268 MB of additional disk space will be used.\n",
            "Get:1 http://archive.ubuntu.com/ubuntu bionic-updates/universe amd64 chromium-codecs-ffmpeg-extra amd64 85.0.4183.83-0ubuntu0.18.04.2 [1,118 kB]\n",
            "Get:2 http://archive.ubuntu.com/ubuntu bionic-updates/universe amd64 chromium-browser amd64 85.0.4183.83-0ubuntu0.18.04.2 [70.3 MB]\n",
            "Get:3 http://archive.ubuntu.com/ubuntu bionic-updates/universe amd64 chromium-browser-l10n all 85.0.4183.83-0ubuntu0.18.04.2 [3,431 kB]\n",
            "Get:4 http://archive.ubuntu.com/ubuntu bionic-updates/universe amd64 chromium-chromedriver amd64 85.0.4183.83-0ubuntu0.18.04.2 [4,412 kB]\n",
            "Fetched 79.2 MB in 3s (24.2 MB/s)\n",
            "Selecting previously unselected package chromium-codecs-ffmpeg-extra.\n",
            "(Reading database ... 144676 files and directories currently installed.)\n",
            "Preparing to unpack .../chromium-codecs-ffmpeg-extra_85.0.4183.83-0ubuntu0.18.04.2_amd64.deb ...\n",
            "Unpacking chromium-codecs-ffmpeg-extra (85.0.4183.83-0ubuntu0.18.04.2) ...\n",
            "Selecting previously unselected package chromium-browser.\n",
            "Preparing to unpack .../chromium-browser_85.0.4183.83-0ubuntu0.18.04.2_amd64.deb ...\n",
            "Unpacking chromium-browser (85.0.4183.83-0ubuntu0.18.04.2) ...\n",
            "Selecting previously unselected package chromium-browser-l10n.\n",
            "Preparing to unpack .../chromium-browser-l10n_85.0.4183.83-0ubuntu0.18.04.2_all.deb ...\n",
            "Unpacking chromium-browser-l10n (85.0.4183.83-0ubuntu0.18.04.2) ...\n",
            "Selecting previously unselected package chromium-chromedriver.\n",
            "Preparing to unpack .../chromium-chromedriver_85.0.4183.83-0ubuntu0.18.04.2_amd64.deb ...\n",
            "Unpacking chromium-chromedriver (85.0.4183.83-0ubuntu0.18.04.2) ...\n",
            "Setting up chromium-codecs-ffmpeg-extra (85.0.4183.83-0ubuntu0.18.04.2) ...\n",
            "Setting up chromium-browser (85.0.4183.83-0ubuntu0.18.04.2) ...\n",
            "update-alternatives: using /usr/bin/chromium-browser to provide /usr/bin/x-www-browser (x-www-browser) in auto mode\n",
            "update-alternatives: using /usr/bin/chromium-browser to provide /usr/bin/gnome-www-browser (gnome-www-browser) in auto mode\n",
            "Setting up chromium-chromedriver (85.0.4183.83-0ubuntu0.18.04.2) ...\n",
            "Setting up chromium-browser-l10n (85.0.4183.83-0ubuntu0.18.04.2) ...\n",
            "Processing triggers for hicolor-icon-theme (0.17-2) ...\n",
            "Processing triggers for mime-support (3.60ubuntu1) ...\n",
            "Processing triggers for man-db (2.8.3-2ubuntu0.1) ...\n",
            "cp: '/usr/lib/chromium-browser/chromedriver' and '/usr/bin/chromedriver' are the same file\n"
          ],
          "name": "stdout"
        }
      ]
    },
    {
      "cell_type": "code",
      "metadata": {
        "id": "zkuxgiVExs44",
        "colab_type": "code",
        "colab": {
          "base_uri": "https://localhost:8080/",
          "height": 34
        },
        "outputId": "e45d3571-2649-4891-c4fb-e7b0a633df41"
      },
      "source": [
        "# authenticate for colab to look at gcs with tensorflow\n",
        "# from google.colab import auth\n",
        "# auth.authenticate_user()\n",
        "# print(\"auth'ed for colab\")"
      ],
      "execution_count": 5,
      "outputs": [
        {
          "output_type": "stream",
          "text": [
            "auth'ed for colab\n"
          ],
          "name": "stdout"
        }
      ]
    },
    {
      "cell_type": "code",
      "metadata": {
        "id": "ues3XqWLX90C",
        "colab_type": "code",
        "colab": {
          "base_uri": "https://localhost:8080/",
          "height": 391
        },
        "outputId": "a8141099-727c-4d3f-e923-128b3aeb18ec"
      },
      "source": [
        "from time import sleep\n",
        "# use gcsfs to read files from gcs\n",
        "import gcsfs\n",
        "import pickle\n",
        "from selenium import webdriver\n",
        "\n",
        "# the group to look inside\n",
        "#TEST_URL   = 'https://www.meetup.com/en-AU/Fishburners-Meetup/events/'\n",
        "TOP_SHOT_EVENTS_URL = 'https://www.meetup.com/Topshot-Badminton-Meetup/events/'\n",
        "\n",
        "# cookie location local\n",
        "#cookie_name = 'meetup_cookies_chrome_2020-09-19.pkl'\n",
        "\n",
        "# cookie location on gcs\n",
        "# cookie_gcs = 'gs://meetup-script/meetup_cookies_chrome_2020-09-19.pkl'\n",
        "fs = gcsfs.GCSFileSystem(project='robotic-tiger-270605',token='robotic-tiger-270605-60df8bc892bb.json')\n",
        "# print(fs.ls('meetup-script')) is a list of files in that bucket\n",
        "\n",
        "\n",
        "# picking the chrome driver\n",
        "OPTIONS = webdriver.ChromeOptions()\n",
        "# remove all these when watching it the first time\n",
        "OPTIONS.add_argument('-headless') # no browser\n",
        "OPTIONS.add_argument('-no-sandbox') # not a test browser\n",
        "OPTIONS.add_argument('-disable-dev-shm-usage') # so docker will allocate >64MB to chrome\n",
        "# if we need to be a realer browser (not a headless chrome)\n",
        "OPTIONS.add_argument('--user-agent=\"\"Mozilla/5.0 (Windows NT 10.0; Win64; x64) AppleWebKit/537.36 (KHTML, like Gecko) Chrome/74.0.3729.157 Safari/537.36\"\"')\n",
        "driver = webdriver.Chrome('chromedriver',options=OPTIONS)\n",
        "print('chromedriver - loaded')\n",
        "\n",
        "# load the page without the cookie\n",
        "driver.get('https://meetup.com')\n",
        "print('meetup.com - loaded without cookie')\n",
        "# load the cookie from google cloud storage\n",
        "with fs.open(fs.ls('meetup-script')[0],'rb') as f:\n",
        "  cookies = pickle.load(f)  \n",
        "for cookie in cookies:\n",
        "    driver.add_cookie(cookie)\n",
        "# load the page again after the cookie is loaded, this is the same as logging in\n",
        "driver.get('https://meetup.com')\n",
        "print('meetup.com - loaded with cookie')\n",
        "\n",
        "# go to our meetup group\n",
        "driver.get(TOP_SHOT_EVENTS_URL)\n",
        "print(f'meetup group {TOP_SHOT_EVENTS_URL} - loaded')\n",
        "\n",
        "# find events to attend, this will be in a funky format\n",
        "elem = driver.find_elements_by_partial_link_text(\"Attend\")\n",
        "# grab the actual URLs and remove the ?action bit\n",
        "elems = []\n",
        "for e in elem[:4]:\n",
        "  # remove the action rsvp yes part, because that doesn't seem to work (19 Sep 2020)\n",
        "  elems.append(e.get_attribute('href').split('?action')[0])\n",
        "\n",
        "# try attend first 4 events in the list\n",
        "# hence for topshot having 3x sessions a week\n",
        "# 4th sessions will always be the new open one\n",
        "for e in elems[:4]:\n",
        "  # go to the first event page\n",
        "  driver.get(e)\n",
        "  print(f'meetup group event - {e} loaded')\n",
        "\n",
        "  try: \n",
        "    # click attend button, but this won't always exist\n",
        "    driver.find_element_by_class_name('gtmEventFooter--attend-btn').click()\n",
        "    print('meetup group event - clicked attend')\n",
        "\n",
        "  except Exception as e:\n",
        "    print(f'no attend button to click with error: \\n{e}')\n",
        "\n",
        "  # wait 1/2 a second before trying another\n",
        "  sleep(0.5)\n",
        "  print('-----wait 1/2 a second then try next')"
      ],
      "execution_count": 71,
      "outputs": [
        {
          "output_type": "stream",
          "text": [
            "chromedriver - loaded\n",
            "meetup.com - loaded without cookie\n",
            "meetup.com - loaded with cookie\n",
            "meetup group https://www.meetup.com/Topshot-Badminton-Meetup/events/ - loaded\n",
            "meetup group event - https://www.meetup.com/en-AU/Topshot-Badminton-Meetup/events/xqmcvrybcmbkc/ loaded\n",
            "meetup group event - clicked attend\n",
            "-----wait 1/2 a second then try next\n",
            "meetup group event - https://www.meetup.com/en-AU/Topshot-Badminton-Meetup/events/wflktrybcmbmc/ loaded\n",
            "no attend button to click with error: Message: no such element: Unable to locate element: {\"method\":\"css selector\",\"selector\":\".gtmEventFooter--attend-btn\"}\n",
            "  (Session info: headless chrome=85.0.4183.83)\n",
            "\n",
            "-----wait 1/2 a second then try next\n",
            "meetup group event - https://www.meetup.com/en-AU/Topshot-Badminton-Meetup/events/tnpqtrybcnbcb/ loaded\n",
            "no attend button to click with error: Message: no such element: Unable to locate element: {\"method\":\"css selector\",\"selector\":\".gtmEventFooter--attend-btn\"}\n",
            "  (Session info: headless chrome=85.0.4183.83)\n",
            "\n",
            "-----wait 1/2 a second then try next\n",
            "meetup group event - https://www.meetup.com/en-AU/Topshot-Badminton-Meetup/events/xqmcvrybcnbgb/ loaded\n",
            "no attend button to click with error: Message: no such element: Unable to locate element: {\"method\":\"css selector\",\"selector\":\".gtmEventFooter--attend-btn\"}\n",
            "  (Session info: headless chrome=85.0.4183.83)\n",
            "\n",
            "-----wait 1/2 a second then try next\n"
          ],
          "name": "stdout"
        }
      ]
    },
    {
      "cell_type": "code",
      "metadata": {
        "id": "6Sk48Y9J58dp",
        "colab_type": "code",
        "colab": {}
      },
      "source": [
        ""
      ],
      "execution_count": null,
      "outputs": []
    }
  ]
}