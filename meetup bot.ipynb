{
  "nbformat": 4,
  "nbformat_minor": 0,
  "metadata": {
    "kernelspec": {
      "display_name": "Python 3",
      "language": "python",
      "name": "python3"
    },
    "language_info": {
      "codemirror_mode": {
        "name": "ipython",
        "version": 3
      },
      "file_extension": ".py",
      "mimetype": "text/x-python",
      "name": "python",
      "nbconvert_exporter": "python",
      "pygments_lexer": "ipython3",
      "version": "3.7.4"
    },
    "colab": {
      "name": "meetup bot.ipynb",
      "provenance": [],
      "include_colab_link": true
    }
  },
  "cells": [
    {
      "cell_type": "markdown",
      "metadata": {
        "id": "view-in-github",
        "colab_type": "text"
      },
      "source": [
        "<a href=\"https://colab.research.google.com/github/jasonwillschiu/scratch/blob/master/meetup%20bot.ipynb\" target=\"_parent\"><img src=\"https://colab.research.google.com/assets/colab-badge.svg\" alt=\"Open In Colab\"/></a>"
      ]
    },
    {
      "cell_type": "code",
      "metadata": {
        "id": "REimBvkpk3zv",
        "colab_type": "code",
        "colab": {
          "base_uri": "https://localhost:8080/",
          "height": 748
        },
        "outputId": "244e1422-d2ba-4d57-e85d-98a9376779f0"
      },
      "source": [
        "# selenium and chromium install\n",
        "!pip install selenium\n",
        "!apt install chromium-chromedriver\n",
        "!cp /usr/lib/chromium-browser/chromedriver /usr/bin"
      ],
      "execution_count": 4,
      "outputs": [
        {
          "output_type": "stream",
          "text": [
            "Requirement already satisfied: selenium in /usr/local/lib/python3.6/dist-packages (3.141.0)\n",
            "Requirement already satisfied: urllib3 in /usr/local/lib/python3.6/dist-packages (from selenium) (1.24.3)\n",
            "Reading package lists... Done\n",
            "Building dependency tree       \n",
            "Reading state information... Done\n",
            "The following additional packages will be installed:\n",
            "  chromium-browser chromium-browser-l10n chromium-codecs-ffmpeg-extra\n",
            "Suggested packages:\n",
            "  webaccounts-chromium-extension unity-chromium-extension adobe-flashplugin\n",
            "The following NEW packages will be installed:\n",
            "  chromium-browser chromium-browser-l10n chromium-chromedriver\n",
            "  chromium-codecs-ffmpeg-extra\n",
            "0 upgraded, 4 newly installed, 0 to remove and 11 not upgraded.\n",
            "Need to get 79.2 MB of archives.\n",
            "After this operation, 268 MB of additional disk space will be used.\n",
            "Get:1 http://archive.ubuntu.com/ubuntu bionic-updates/universe amd64 chromium-codecs-ffmpeg-extra amd64 85.0.4183.83-0ubuntu0.18.04.2 [1,118 kB]\n",
            "Get:2 http://archive.ubuntu.com/ubuntu bionic-updates/universe amd64 chromium-browser amd64 85.0.4183.83-0ubuntu0.18.04.2 [70.3 MB]\n",
            "Get:3 http://archive.ubuntu.com/ubuntu bionic-updates/universe amd64 chromium-browser-l10n all 85.0.4183.83-0ubuntu0.18.04.2 [3,431 kB]\n",
            "Get:4 http://archive.ubuntu.com/ubuntu bionic-updates/universe amd64 chromium-chromedriver amd64 85.0.4183.83-0ubuntu0.18.04.2 [4,412 kB]\n",
            "Fetched 79.2 MB in 9s (9,017 kB/s)\n",
            "Selecting previously unselected package chromium-codecs-ffmpeg-extra.\n",
            "(Reading database ... 144676 files and directories currently installed.)\n",
            "Preparing to unpack .../chromium-codecs-ffmpeg-extra_85.0.4183.83-0ubuntu0.18.04.2_amd64.deb ...\n",
            "Unpacking chromium-codecs-ffmpeg-extra (85.0.4183.83-0ubuntu0.18.04.2) ...\n",
            "Selecting previously unselected package chromium-browser.\n",
            "Preparing to unpack .../chromium-browser_85.0.4183.83-0ubuntu0.18.04.2_amd64.deb ...\n",
            "Unpacking chromium-browser (85.0.4183.83-0ubuntu0.18.04.2) ...\n",
            "Selecting previously unselected package chromium-browser-l10n.\n",
            "Preparing to unpack .../chromium-browser-l10n_85.0.4183.83-0ubuntu0.18.04.2_all.deb ...\n",
            "Unpacking chromium-browser-l10n (85.0.4183.83-0ubuntu0.18.04.2) ...\n",
            "Selecting previously unselected package chromium-chromedriver.\n",
            "Preparing to unpack .../chromium-chromedriver_85.0.4183.83-0ubuntu0.18.04.2_amd64.deb ...\n",
            "Unpacking chromium-chromedriver (85.0.4183.83-0ubuntu0.18.04.2) ...\n",
            "Setting up chromium-codecs-ffmpeg-extra (85.0.4183.83-0ubuntu0.18.04.2) ...\n",
            "Setting up chromium-browser (85.0.4183.83-0ubuntu0.18.04.2) ...\n",
            "update-alternatives: using /usr/bin/chromium-browser to provide /usr/bin/x-www-browser (x-www-browser) in auto mode\n",
            "update-alternatives: using /usr/bin/chromium-browser to provide /usr/bin/gnome-www-browser (gnome-www-browser) in auto mode\n",
            "Setting up chromium-chromedriver (85.0.4183.83-0ubuntu0.18.04.2) ...\n",
            "Setting up chromium-browser-l10n (85.0.4183.83-0ubuntu0.18.04.2) ...\n",
            "Processing triggers for hicolor-icon-theme (0.17-2) ...\n",
            "Processing triggers for mime-support (3.60ubuntu1) ...\n",
            "Processing triggers for man-db (2.8.3-2ubuntu0.1) ...\n",
            "cp: '/usr/lib/chromium-browser/chromedriver' and '/usr/bin/chromedriver' are the same file\n"
          ],
          "name": "stdout"
        }
      ]
    },
    {
      "cell_type": "code",
      "metadata": {
        "id": "zkuxgiVExs44",
        "colab_type": "code",
        "colab": {}
      },
      "source": [
        "# authenticate for colab to look at gcs\n",
        "from google.colab import auth\n",
        "auth.authenticate_user()\n",
        "print(\"auth'ed for colab\")"
      ],
      "execution_count": 7,
      "outputs": []
    },
    {
      "cell_type": "code",
      "metadata": {
        "id": "ues3XqWLX90C",
        "colab_type": "code",
        "colab": {
          "base_uri": "https://localhost:8080/",
          "height": 119
        },
        "outputId": "83b5995b-7a6c-4277-ee54-22a27221b027"
      },
      "source": [
        "import pickle\n",
        "import selenium.webdriver\n",
        "# use tf to read files from gcs\n",
        "import tensorflow as tf \n",
        "from tensorflow.python.lib.io import file_io\n",
        "\n",
        "# the group to look inside\n",
        "TEST_URL   = 'https://www.meetup.com/en-AU/Fishburners-Meetup/events/'\n",
        "TOP_SHOT_EVENTS_URL = 'https://www.meetup.com/Topshot-Badminton-Meetup/events/'\n",
        "\n",
        "# cookie location local\n",
        "#cookie_name = 'meetup_cookies_chrome_2020-09-19.pkl'\n",
        "\n",
        "# cookie location on gcs\n",
        "cookie_gcs = 'gs://meetup-script/meetup_cookies_chrome_2020-09-19.pkl'\n",
        "\n",
        "# picking the chrome driver\n",
        "OPTIONS = webdriver.ChromeOptions()\n",
        "# remove all these when watching it the first time\n",
        "OPTIONS.add_argument('-headless') # no browser\n",
        "OPTIONS.add_argument('-no-sandbox') # not a test browser\n",
        "OPTIONS.add_argument('-disable-dev-shm-usage') # so docker will allocate >64MB to chrome\n",
        "# if we need to be a realer browser (not a headless chrome)\n",
        "OPTIONS.add_argument('--user-agent=\"\"Mozilla/5.0 (Windows NT 10.0; Win64; x64) AppleWebKit/537.36 (KHTML, like Gecko) Chrome/74.0.3729.157 Safari/537.36\"\"')\n",
        "driver = webdriver.Chrome('chromedriver',options=OPTIONS)\n",
        "print('chromedriver - loaded')\n",
        "\n",
        "# load the page without the cookie\n",
        "driver.get('https://meetup.com')\n",
        "print('meetup.com - loaded without cookie')\n",
        "# load the cookie\n",
        "with file_io.FileIO(cookie_gcs,'rb') as f:\n",
        "  cookies = pickle.load(f)    \n",
        "for cookie in cookies:\n",
        "    driver.add_cookie(cookie)\n",
        "# load the page again after the cookie is loaded, this is the same as logging in\n",
        "driver.get('https://meetup.com')\n",
        "print('meetup.com - loaded with cookie')\n",
        "\n",
        "# go to our meetup group\n",
        "driver.get(TEST_URL)\n",
        "print('meetup group URL - loaded')\n",
        "\n",
        "# find events to attend, this will be in a funky format\n",
        "elem = driver.find_elements_by_partial_link_text(\"Attend\")\n",
        "# grab the actual URLs and remove the ?action bit\n",
        "elems = []\n",
        "for e in elem[:4]:\n",
        "    # remove the action rsvp yes part, because that doesn't seem to work (19 Sep 2020)\n",
        "    elems.append(e.get_attribute('href').split('?action')[0])\n",
        "    \n",
        "# go to the first event page\n",
        "driver.get(elems[0])\n",
        "print('meetup group event - URL loaded')\n",
        "\n",
        "# click attend\n",
        "driver.find_element_by_class_name('gtmEventFooter--attend-btn').click()\n",
        "print('meetup group event - clicked attend')"
      ],
      "execution_count": 8,
      "outputs": [
        {
          "output_type": "stream",
          "text": [
            "chromedriver - loaded\n",
            "meetup.com - loaded without cookie\n",
            "meetup.com - loaded with cookie\n",
            "meetup group URL - loaded\n",
            "meetup group event - URL loaded\n",
            "meetup group event - clicked attend\n"
          ],
          "name": "stdout"
        }
      ]
    }
  ]
}